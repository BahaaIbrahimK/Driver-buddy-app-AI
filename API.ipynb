{
  "nbformat": 4,
  "nbformat_minor": 0,
  "metadata": {
    "colab": {
      "provenance": []
    },
    "kernelspec": {
      "name": "python3",
      "display_name": "Python 3"
    },
    "language_info": {
      "name": "python"
    }
  },
  "cells": [
    {
      "cell_type": "code",
      "execution_count": 1,
      "metadata": {
        "colab": {
          "base_uri": "https://localhost:8080/"
        },
        "id": "AOIQyzonNr5B",
        "outputId": "2202bf4f-3645-47b2-df21-3fe79d409f8e"
      },
      "outputs": [
        {
          "output_type": "stream",
          "name": "stdout",
          "text": [
            "Mounted at /content/drive\n"
          ]
        }
      ],
      "source": [
        "from google.colab import drive\n",
        "drive.mount('/content/drive')"
      ]
    },
    {
      "cell_type": "code",
      "source": [
        "!pip install pyngrok"
      ],
      "metadata": {
        "colab": {
          "base_uri": "https://localhost:8080/"
        },
        "id": "nUoXyA72OBpF",
        "outputId": "24a1baa9-2fe7-488e-fe60-51287efd5fbf"
      },
      "execution_count": 2,
      "outputs": [
        {
          "output_type": "stream",
          "name": "stdout",
          "text": [
            "Collecting pyngrok\n",
            "  Downloading pyngrok-7.2.3-py3-none-any.whl.metadata (8.7 kB)\n",
            "Requirement already satisfied: PyYAML>=5.1 in /usr/local/lib/python3.11/dist-packages (from pyngrok) (6.0.2)\n",
            "Downloading pyngrok-7.2.3-py3-none-any.whl (23 kB)\n",
            "Installing collected packages: pyngrok\n",
            "Successfully installed pyngrok-7.2.3\n"
          ]
        }
      ]
    },
    {
      "cell_type": "code",
      "source": [
        "!pip install ultralytics"
      ],
      "metadata": {
        "colab": {
          "base_uri": "https://localhost:8080/"
        },
        "id": "me1AzgxgQZ5c",
        "outputId": "e629c759-0d3d-44d9-de11-0e80e144ef9d"
      },
      "execution_count": 3,
      "outputs": [
        {
          "output_type": "stream",
          "name": "stdout",
          "text": [
            "  Attempting uninstall: nvidia-cusolver-cu12\n",
            "    Found existing installation: nvidia-cusolver-cu12 11.6.3.83\n",
            "    Uninstalling nvidia-cusolver-cu12-11.6.3.83:\n",
            "      Successfully uninstalled nvidia-cusolver-cu12-11.6.3.83\n",
            "Successfully installed nvidia-cublas-cu12-12.4.5.8 nvidia-cuda-cupti-cu12-12.4.127 nvidia-cuda-nvrtc-cu12-12.4.127 nvidia-cuda-runtime-cu12-12.4.127 nvidia-cudnn-cu12-9.1.0.70 nvidia-cufft-cu12-11.2.1.3 nvidia-curand-cu12-10.3.5.147 nvidia-cusolver-cu12-11.6.1.9 nvidia-cusparse-cu12-12.3.1.170 nvidia-nvjitlink-cu12-12.4.127 ultralytics-8.3.97 ultralytics-thop-2.0.14\n"
          ]
        }
      ]
    },
    {
      "cell_type": "code",
      "source": [
        "from flask import Flask, request, jsonify\n",
        "from pyngrok import ngrok\n",
        "import os\n",
        "import cv2\n",
        "import numpy as np\n",
        "from ultralytics import YOLO\n",
        "import base64\n",
        "from io import BytesIO\n",
        "from PIL import Image\n",
        "import os\n",
        "\n",
        "\n",
        "# Ngrok setup\n",
        "ngrok.set_auth_token(\"2uumg7kLy68a0nmkmlC5QzvOBkt_4RADoBHWDVVr5pmf6vNuT\")\n",
        "public_url = ngrok.connect(5000).public_url\n",
        "\n",
        "\n",
        "app = Flask(__name__)\n",
        "\n",
        "\n",
        "# Load the YOLO model\n",
        "model = YOLO(\"/content/drive/MyDrive/Driver Buddy AI/runs/detect/train2/weights/best.pt\")\n",
        "\n",
        "# Class names\n",
        "class_names = ['abs', 'airbag', 'dipped beam', 'engine', 'hand brake',\n",
        "               'power steer', 'seatbelt', 'stability control', 'tire pressure', 'warning']\n",
        "\n",
        "@app.route('/detect', methods=['POST'])\n",
        "def detect_objects():\n",
        "    # Check if image was uploaded\n",
        "    if 'image' not in request.files:\n",
        "        return jsonify({'error': 'No image uploaded'}), 400\n",
        "\n",
        "    # Read the uploaded image\n",
        "    file = request.files['image']\n",
        "    if file.filename == '':\n",
        "        return jsonify({'error': 'No image selected'}), 400\n",
        "\n",
        "    try:\n",
        "        # Read image file\n",
        "        image_bytes = file.read()\n",
        "        nparr = np.frombuffer(image_bytes, np.uint8)\n",
        "        image = cv2.imdecode(nparr, cv2.IMREAD_COLOR)\n",
        "        image = cv2.cvtColor(image, cv2.COLOR_BGR2RGB)\n",
        "\n",
        "        # Run inference\n",
        "        results = model(image)\n",
        "\n",
        "        # Process detections\n",
        "        detections = []\n",
        "        annotated_image = image.copy()\n",
        "        height, width, _ = image.shape\n",
        "\n",
        "        for result in results:\n",
        "            for box in result.boxes:\n",
        "                class_id = int(box.cls)\n",
        "                confidence = float(box.conf)\n",
        "                x_center, y_center, w, h = box.xywhn[0].tolist()  # Normalized coordinates\n",
        "\n",
        "                # Convert normalized coordinates to pixel coordinates\n",
        "                x1 = int((x_center - w / 2) * width)\n",
        "                y1 = int((y_center - h / 2) * height)\n",
        "                x2 = int((x_center + w / 2) * width)\n",
        "                y2 = int((y_center + h / 2) * height)\n",
        "\n",
        "                # Store detection info\n",
        "                detection = {\n",
        "                    'predicted_class': class_names[class_id],\n",
        "                    'confidence': confidence,\n",
        "                    'bounding_box': {\n",
        "                        'x_center': x_center,\n",
        "                        'y_center': y_center,\n",
        "                        'width': w,\n",
        "                        'height': h\n",
        "                    },\n",
        "                    'pixel_coordinates': {\n",
        "                        'x1': x1,\n",
        "                        'y1': y1,\n",
        "                        'x2': x2,\n",
        "                        'y2': y2\n",
        "                    }\n",
        "                }\n",
        "                detections.append(detection)\n",
        "\n",
        "                # Draw bounding box and label on the image\n",
        "                cv2.rectangle(annotated_image, (x1, y1), (x2, y2), (0, 255, 0), 2)\n",
        "                cv2.putText(annotated_image,\n",
        "                            f\"{class_names[class_id]}\",\n",
        "                            (x1-10, y1 - 10),\n",
        "                            cv2.FONT_HERSHEY_SIMPLEX,\n",
        "                            0.6, (0, 255, 0), 2)\n",
        "\n",
        "        # Convert annotated image to base64\n",
        "        _, buffer = cv2.imencode('.jpg', cv2.cvtColor(annotated_image, cv2.COLOR_RGB2BGR))\n",
        "        base64_image = base64.b64encode(buffer).decode('utf-8')\n",
        "\n",
        "        # Prepare response\n",
        "        response = {\n",
        "            'detections': detections,\n",
        "            'annotated_image': base64_image,\n",
        "            'message': 'Detection successful'\n",
        "        }\n",
        "\n",
        "        return jsonify(response), 200\n",
        "\n",
        "    except Exception as e:\n",
        "        return jsonify({'error': str(e)}), 500\n",
        "\n",
        "# Display the public URL for accessing the app\n",
        "print(f\"To access the app globally, click here: {public_url}\")\n",
        "\n",
        "if __name__ == '__main__':\n",
        "    app.run(port= 5000)"
      ],
      "metadata": {
        "colab": {
          "base_uri": "https://localhost:8080/"
        },
        "id": "zXqhJA5OOKgF",
        "outputId": "a7a4d3ff-ad49-4d98-afa6-8eecc8a9942a"
      },
      "execution_count": 8,
      "outputs": [
        {
          "output_type": "stream",
          "name": "stdout",
          "text": [
            "To access the app globally, click here: https://ae9e-34-81-129-120.ngrok-free.app\n",
            " * Serving Flask app '__main__'\n",
            " * Debug mode: off\n"
          ]
        },
        {
          "output_type": "stream",
          "name": "stderr",
          "text": [
            "INFO:werkzeug:\u001b[31m\u001b[1mWARNING: This is a development server. Do not use it in a production deployment. Use a production WSGI server instead.\u001b[0m\n",
            " * Running on http://127.0.0.1:5000\n",
            "INFO:werkzeug:\u001b[33mPress CTRL+C to quit\u001b[0m\n"
          ]
        },
        {
          "output_type": "stream",
          "name": "stdout",
          "text": [
            "\n",
            "0: 640x640 1 airbag, 1 dipped beam, 1 hand brake, 1 seatbelt, 295.0ms\n",
            "Speed: 11.3ms preprocess, 295.0ms inference, 1.6ms postprocess per image at shape (1, 3, 640, 640)\n"
          ]
        },
        {
          "output_type": "stream",
          "name": "stderr",
          "text": [
            "INFO:werkzeug:127.0.0.1 - - [27/Mar/2025 20:56:44] \"POST /detect HTTP/1.1\" 200 -\n",
            "WARNING:pyngrok.process.ngrok:t=2025-03-27T20:57:44+0000 lvl=warn msg=\"Stopping forwarder\" name=http-5000-03a31e8d-042e-49a8-9930-5be812362586 acceptErr=\"failed to accept connection: Listener closed\"\n",
            "WARNING:pyngrok.process.ngrok:t=2025-03-27T20:57:44+0000 lvl=warn msg=\"Error restarting forwarder\" name=http-5000-03a31e8d-042e-49a8-9930-5be812362586 err=\"failed to start tunnel: session closed\"\n"
          ]
        }
      ]
    },
    {
      "cell_type": "code",
      "source": [],
      "metadata": {
        "id": "daxIJuMhQ7AE"
      },
      "execution_count": null,
      "outputs": []
    }
  ]
}